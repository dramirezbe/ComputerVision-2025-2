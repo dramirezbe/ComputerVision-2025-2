{
 "cells": [
  {
   "cell_type": "code",
   "execution_count": 15,
   "id": "829de676",
   "metadata": {},
   "outputs": [],
   "source": [
    "import numpy as np\n",
    "import random \n",
    "import time\n",
    "import math"
   ]
  },
  {
   "cell_type": "markdown",
   "id": "e8fe1b36",
   "metadata": {},
   "source": [
    "### 📝 Mini-proyecto: Comparación de rendimiento y simulación de dados\n",
    "\n",
    "Este ejercicio tiene **dos partes**:\n",
    "\n",
    "1. Comparar la velocidad entre operaciones en listas de Python y arrays de Numpy.\n",
    "2. Simular lanzamientos de dados usando Numpy.\n",
    "\n",
    "\n",
    "### Parte 1: Comparación de rendimiento\n",
    "\n",
    "**Objetivo**: Medir cuánto más rápido es Numpy frente a Python puro en operaciones numéricas."
   ]
  },
  {
   "cell_type": "code",
   "execution_count": 16,
   "id": "e0e784f7",
   "metadata": {},
   "outputs": [
    {
     "name": "stdout",
     "output_type": "stream",
     "text": [
      "--- Comparación con 1000 números ---\n",
      "Tiempo Exponencial (Python + bucle): 0.0001242161 segundos\n",
      "Tiempo Exponencial (NumPy):          0.0000472069 segundos\n",
      "--------------------------------------------------\n",
      "Tiempo Raíz Cuadrada (Python + bucle): 0.0000691414 segundos\n",
      "Tiempo Raíz Cuadrada (NumPy):          0.0001349449 segundos\n",
      "--------------------------------------------------\n",
      "Tiempo Seno (Python + bucle): 0.0000541210 segundos\n",
      "Tiempo Seno (NumPy):          0.0000181198 segundos\n"
     ]
    }
   ],
   "source": [
    "# Generar una lista de 1000 números aleatorios para Python\n",
    "sig1_py = [random.random() for _ in range(1000)]\n",
    "sig2_py = [random.random() for _ in range(1000)]\n",
    "\n",
    "# Convertir esas listas a arrays de NumPy\n",
    "sig1_np = np.array(sig1_py)\n",
    "sig2_np = np.array(sig2_py)\n",
    "\n",
    "# --- Función de Medición ---\n",
    "def count_time(func):\n",
    "    \"\"\"\n",
    "    Mide y devuelve el tiempo que tarda en ejecutarse una función.\n",
    "    \"\"\"\n",
    "    start_time = time.time()\n",
    "    func()\n",
    "    return time.time() - start_time\n",
    "\n",
    "# --- Pruebas de Rendimiento ---\n",
    "\n",
    "# Exponencial\n",
    "# Python: Aplicar math.exp a cada elemento de la lista\n",
    "time_exp_py = count_time(lambda: [math.exp(i) for i in sig1_py])\n",
    "# NumPy: Aplicar np.exp a todo el array a la vez\n",
    "time_exp_np = count_time(lambda: np.exp(sig1_np))\n",
    "\n",
    "# Raíz cuadrada\n",
    "# Python: Iterar, calcular raíces y sumar los resultados (elemento a elemento)\n",
    "time_sqrt_py = count_time(lambda: [math.sqrt(x) + math.sqrt(y) for x, y in zip(sig1_py, sig2_py)])\n",
    "# NumPy: Operaciones vectorizadas para todo el proceso\n",
    "time_sqrt_np = count_time(lambda: np.sqrt(sig1_np) + np.sqrt(sig2_np))\n",
    "\n",
    "# Seno\n",
    "# Python: Aplicar math.sin a cada elemento\n",
    "time_sin_py = count_time(lambda: [math.sin(i) for i in sig1_py])\n",
    "# NumPy: Aplicar np.sin a todo el array\n",
    "time_sin_np = count_time(lambda: np.sin(sig1_np))\n",
    "\n",
    "\n",
    "# --- Imprimir Resultados ---\n",
    "\n",
    "print(\"--- Comparación con 1000 números ---\")\n",
    "print(f\"Tiempo Exponencial (Python + bucle): {time_exp_py:.10f} segundos\")\n",
    "print(f\"Tiempo Exponencial (NumPy):          {time_exp_np:.10f} segundos\")\n",
    "print(\"-\" * 50)\n",
    "print(f\"Tiempo Raíz Cuadrada (Python + bucle): {time_sqrt_py:.10f} segundos\")\n",
    "print(f\"Tiempo Raíz Cuadrada (NumPy):          {time_sqrt_np:.10f} segundos\")\n",
    "print(\"-\" * 50)\n",
    "print(f\"Tiempo Seno (Python + bucle): {time_sin_py:.10f} segundos\")\n",
    "print(f\"Tiempo Seno (NumPy):          {time_sin_np:.10f} segundos\")"
   ]
  },
  {
   "cell_type": "markdown",
   "id": "055dabd2",
   "metadata": {},
   "source": [
    "### Parte 2: Simulación de lanzamientos de dados\n",
    "\n",
    "**Objetivo**: Usar Numpy para simular fenómenos aleatorios."
   ]
  },
  {
   "cell_type": "code",
   "execution_count": 17,
   "id": "6fedd30b",
   "metadata": {},
   "outputs": [
    {
     "name": "stdout",
     "output_type": "stream",
     "text": [
      "Mean : 3.566\n",
      "Std : 1.7040082159426344\n",
      "Var : 2.903644\n"
     ]
    }
   ],
   "source": [
    "throw_dice = lambda : np.random.randint(1, 7)\n",
    "\n",
    "\n",
    "accumulate_throws = []\n",
    "for _ in range(1000):\n",
    "    accumulate_throws.append(throw_dice())\n",
    "accumulate_throws = np.array(accumulate_throws)\n",
    "\n",
    "print(\"Mean :\", np.mean(accumulate_throws))\n",
    "print(\"Std :\", np.std(accumulate_throws))\n",
    "print(\"Var :\", np.var(accumulate_throws))"
   ]
  }
 ],
 "metadata": {
  "kernelspec": {
   "display_name": "venv",
   "language": "python",
   "name": "python3"
  },
  "language_info": {
   "codemirror_mode": {
    "name": "ipython",
    "version": 3
   },
   "file_extension": ".py",
   "mimetype": "text/x-python",
   "name": "python",
   "nbconvert_exporter": "python",
   "pygments_lexer": "ipython3",
   "version": "3.13.3"
  }
 },
 "nbformat": 4,
 "nbformat_minor": 5
}
